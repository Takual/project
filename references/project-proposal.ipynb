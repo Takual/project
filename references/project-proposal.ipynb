{
 "cells": [
  {
   "cell_type": "markdown",
   "metadata": {},
   "source": [
    "# Project proposal\n",
    "\n",
    "---\n",
    "\n",
    "Group name: Andreas Laukat\n",
    "\n",
    "---\n"
   ]
  },
  {
   "cell_type": "markdown",
   "metadata": {},
   "source": [
    "## Einleitung\n",
    "\n",
    "YouTube hat sich zu einer dominierenden Plattform für den Konsum von Videoinhalten entwickelt und für Medienunternehmen wie ntv ist es unerlässlich, die Performance ihrer Videos zu verstehen und zu optimieren. Die Analyse von YouTube-Analytics-Daten bietet wertvolle Einblicke in das Zuschauerverhalten und kann dazu beitragen, die Content-Strategie zu verbessern. \n",
    "\n",
    "In diesem Projekt untersuche ich die YouTube-Analytics-Daten des ntv-Kanals, um die Faktoren zu identifizieren, die den Erfolg von Videos beeinflussen. \n",
    "Der Datensatz umfasst etwa 900 Videos aus dem Jahr 2024 und enthält eine Vielzahl von Kennzahlen wie Aufrufe, Wiedergabedauer, Impressionen, Klicks und Umsatz. \n",
    "\n",
    "Die Forschungsfrage lautet:\n",
    "Welche Faktoren beeinflussen die Performance von Videos auf dem ntv YouTube-Kanal und wie können diese Erkenntnisse genutzt werden, um die Content-Strategie zu optimieren? \n",
    "\n",
    "Hypothesen:\n",
    "Videos zu bestimmten Themengebieten (z.B. Ukrainekrieg, Bitcoin) erzielen im Durchschnitt mehr Aufrufe und eine längere Wiedergabedauer als Videos zu anderen Themen. \n",
    "Die Gestaltung des Thumbnails oder die Herausstellung eines besonderen Experten hat einen signifikanten Einfluss auf die Klickrate von Videos. \n",
    "Eine höhere Bewertung des Videotitels korreliert positiv mit der Anzahl der Aufrufe und der Wiedergabedauer. "
   ]
  },
  {
   "cell_type": "markdown",
   "metadata": {},
   "source": [
    "\n",
    "## Data description\n",
    "\n",
    "In this section, you will describe the data set you wish to explore. This includes\n",
    "\n",
    "-   description of the observations in the data set,\n",
    "-   description of how the data was originally collected (not how you found the data but how the original curator of the data collected it)."
   ]
  },
  {
   "cell_type": "markdown",
   "metadata": {},
   "source": [
    "\n",
    "## Analysis approach\n",
    "\n",
    "Der Datensatz für dieses Projekt stammt aus den YouTube-Analytics des ntv-Kanals und umfasst ca. 900 Videos, die im Jahr 2024 veröffentlicht wurden. Die Daten werden von YouTube automatisch erfasst und umfassen eine Vielzahl von Kennzahlen, die die Performance der Videos messen.\n",
    "Beobachtungen:\n",
    "Jede Zeile im Datensatz repräsentiert ein einzelnes Video auf dem ntv YouTube-Kanal.\n",
    "\n",
    "Datenerhebung:\n",
    "Die Daten werden von YouTube automatisch erfasst und über einen Export bereitgestellt. Für jedes Video werden verschiedene Kennzahlen aufgezeichnet, darunter:\n",
    "● Metriken zur Videoleistung: Aufrufe, Wiedergabedauer, Impressionen, Klickrate, durchschnittliche Wiedergabedauer.\n",
    "● Engagement-Metriken: Likes, Dislikes, Kommentare, Anzahl der geteilten Inhalte.\n",
    "● Umsatzdaten: Geschätzter Umsatz (in Euro). \n",
    "● Zuschauerbindung: Durchschnittliche Wiedergabedauer in Prozent, Abonnentenentwicklung (gewonnene und verlorene Abonnenten). \n",
    "● Reichweite: Anzahl der Anzeigen im Feed.\n",
    "\n",
    "Zusätzliche Kategorien:\n",
    "Um den Datensatz zu erweitern und die Analyse zu vertiefen, plane ich folgenden Kategorien hinzuzufügen:\n",
    "● Themengebiete: Jedes Video wird einem oder mehreren Themengebieten zugeordnet (z.B. Politik, Wirtschaft, Krieg, Sonstiges, Bilder). \n",
    "● Thumbnail-Gestaltung: Die Gestaltung der Thumbnails wird von mir in einem händischen Prozess grob eingeteilt: mit herausragender  Person oder ohne. Wichtige Experten/Politiker werden meist freigestellt und auf ein Themenbild gebaut. Diese Experten sind auf der Webseite sehr beliebte und bekannte Personen. \n",
    "\n",
    "SEO-Bewertung:\n",
    "Um die SEO-Qualität der Videotitel zu bewerten, planen ich ein Programm zu entwickeln, das mithilfe einer KI die Titel anhand von relevanten SEO-Kriterien analysiert. Die Bewertung erfolgt auf einer Skala von 1 bis 10, wobei 1 eine schlechte und 10 eine sehr gute SEO-Performance darstellt. Erste Tests haben gezeigt, dass eine Skala von 1 bis 5 zu ungenau ist und die KI doe meisten Totel mit 4 und 5 bewertet. \n",
    "\n",
    "Analyseansatz Antwortvariablen:\n",
    "● Aufrufe: Die Anzahl der Aufrufe eines Videos ist eine zentrale Kennzahl für den Erfolg eines Videos.\n",
    "● Wiedergabedauer (in Stunden): Die Wiedergabedauer misst das Engagement der Zuschauer und gibt Aufschluss darüber, wie lange sie sich mit einem Video beschäftigen. \n",
    "● Erfolgskategorie: Basierend auf den Aufrufen und der Wiedergabedauer werden die Videos in verschiedene Erfolgskategorien eingeteilt (z.B. \"sehr erfolgreich\", \"erfolgreich\", \"weniger erfolgreich\")\n",
    "\n",
    "Visualisierungen und zusammenfassende Statistiken:\n",
    "Zur explorativen Datenanalyse (EDA) werde ich verschiedene Visualisierungen verwenden, um die Verteilung der Antwortvariablen und die Beziehungen zwischen den Variablen zu untersuchen.\n",
    "● Histogramme: Zur Darstellung der Verteilung der Aufrufe und der Wiedergabedauer.\n",
    "● Streudiagramme: Zur Untersuchung der Zusammenhänge zwischen den numerischen Variablen (z.B. Aufrufe vs. Wiedergabedauer, SEO-Bewertung vs. Aufrufe).\n",
    "● Boxplots: Zum Vergleich der Aufrufe und der Wiedergabedauer für verschiedene Kategorien (z.B. Themengebiete, Thumbnail-Gestaltung).\n",
    "● Balkendiagramme: Zur Darstellung der Häufigkeit von Videos in den verschiedenen Erfolgskategorien.\n",
    "Zusätzlich zu den Visualisierungen werden wir deskriptive Statistiken berechnen, um die zentralen Tendenzen und die Streuung der Variablen zu beschreiben.\n",
    "\n",
    "Prädiktorvariablen:\n",
    "● Themengebiet: (Kategoriale Variable)\n",
    "● Thumbnail-Gestaltung: (Kategoriale Variable)\n",
    "● SEO-Bewertung: (Numerische Variable)\n",
    "● Länge des Videos: (Numerische Variable)\n",
    "\n",
    "Modelltypen:\n",
    "● Lineare Regression: Zur Untersuchung des Einflusses der Prädiktorvariablen auf die Anzahl der Aufrufe und die Wiedergabedauer. \n",
    "● Logistische Regression: Zur Vorhersage der Erfolgskategorie eines Videos basierend auf den Prädiktorvariablen. \n",
    "● weitere Modelle, die ich jetzt noch nicht bennenen kann, da ich erst mich durch das Buch arbeiten muss."
   ]
  },
  {
   "cell_type": "markdown",
   "metadata": {},
   "source": [
    "## Data dictionary\n",
    "\n",
    "*Create a data dictionary for all the variables in your data set. You may fill out the data description table or create your own table with Pandas:*\n",
    "\n",
    "<br>\n",
    "\n",
    "\n",
    "| Name  |   Description\t| Role   \t| Type   \t|  Format \t|\n",
    "|---\t|---\t        |---    \t|---\t    |---\t|\n",
    "|   \t|   \t        |   \t    |   \t    |   \t|\n",
    "|   \t|   \t        |   \t    |   \t    |   \t|\n",
    "|   \t|   \t        |   \t    |   \t    |   \t|\n",
    "\n",
    "\n",
    "<br>\n",
    "\n",
    "- `Role`: response, predictor, ID (ID columns are not used in a model but can help to better understand the data)\n",
    "\n",
    "- `Type`: nominal, ordinal or numeric\n",
    "\n",
    "- `Format`: int, float, string, category, date or object"
   ]
  }
 ],
 "metadata": {
  "kernelspec": {
   "display_name": "Python 3.9.12 ('base')",
   "language": "python",
   "name": "python3"
  },
  "language_info": {
   "name": "python",
   "version": "3.9.12"
  },
  "orig_nbformat": 4,
  "vscode": {
   "interpreter": {
    "hash": "463226f144cc21b006ce6927bfc93dd00694e52c8bc6857abb6e555b983749e9"
   }
  }
 },
 "nbformat": 4,
 "nbformat_minor": 2
}
